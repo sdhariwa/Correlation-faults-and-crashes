{
 "cells": [
  {
   "cell_type": "code",
   "execution_count": 1,
   "id": "70ec1a30",
   "metadata": {},
   "outputs": [],
   "source": [
    "import re\n",
    "import pandas as pd"
   ]
  },
  {
   "cell_type": "code",
   "execution_count": 1,
   "id": "f84a55fe",
   "metadata": {},
   "outputs": [
    {
     "ename": "NameError",
     "evalue": "name 're' is not defined",
     "output_type": "error",
     "traceback": [
      "\u001b[0;31m---------------------------------------------------------------------------\u001b[0m",
      "\u001b[0;31mNameError\u001b[0m                                 Traceback (most recent call last)",
      "Cell \u001b[0;32mIn[1], line 16\u001b[0m\n\u001b[1;32m     14\u001b[0m file \u001b[38;5;241m=\u001b[39m \u001b[38;5;28mopen\u001b[39m(\u001b[38;5;124m\"\u001b[39m\u001b[38;5;124mAFM_raw_data.txt\u001b[39m\u001b[38;5;124m\"\u001b[39m)\n\u001b[1;32m     15\u001b[0m lines_in_file \u001b[38;5;241m=\u001b[39m file\u001b[38;5;241m.\u001b[39mread()\n\u001b[0;32m---> 16\u001b[0m modified_lines \u001b[38;5;241m=\u001b[39m replace_row_handle_with_tab(lines_in_file)\n\u001b[1;32m     17\u001b[0m rows \u001b[38;5;241m=\u001b[39m modified_lines\u001b[38;5;241m.\u001b[39msplit(\u001b[38;5;124m\"\u001b[39m\u001b[38;5;130;01m\\t\u001b[39;00m\u001b[38;5;124m\"\u001b[39m)[\u001b[38;5;241m1\u001b[39m:]\n\u001b[1;32m     18\u001b[0m records \u001b[38;5;241m=\u001b[39m \u001b[38;5;28mlist\u001b[39m()\n",
      "Cell \u001b[0;32mIn[1], line 7\u001b[0m, in \u001b[0;36mreplace_row_handle_with_tab\u001b[0;34m(s)\u001b[0m\n\u001b[1;32m      1\u001b[0m \u001b[38;5;28;01mdef\u001b[39;00m \u001b[38;5;21mreplace_row_handle_with_tab\u001b[39m(s):\n\u001b[1;32m      2\u001b[0m \u001b[38;5;250m    \u001b[39m\u001b[38;5;124;03m'''\u001b[39;00m\n\u001b[1;32m      3\u001b[0m \u001b[38;5;124;03m    This function replaces the row indication in the data file to a tab character for easy splitting of data.\u001b[39;00m\n\u001b[1;32m      4\u001b[0m \u001b[38;5;124;03m    :param s: raw string from the data file\u001b[39;00m\n\u001b[1;32m      5\u001b[0m \u001b[38;5;124;03m    :return: string with tab character instead of row indicator, if any\u001b[39;00m\n\u001b[1;32m      6\u001b[0m \u001b[38;5;124;03m    '''\u001b[39;00m\n\u001b[0;32m----> 7\u001b[0m     s \u001b[38;5;241m=\u001b[39m re\u001b[38;5;241m.\u001b[39msub(\n\u001b[1;32m      8\u001b[0m         \u001b[38;5;124m\"\u001b[39m\u001b[38;5;124m\\\u001b[39m\u001b[38;5;124m*\u001b[39m\u001b[38;5;124m\\\u001b[39m\u001b[38;5;124m*\u001b[39m\u001b[38;5;124m\\\u001b[39m\u001b[38;5;124m*\u001b[39m\u001b[38;5;124m\\\u001b[39m\u001b[38;5;124m*\u001b[39m\u001b[38;5;124m\\\u001b[39m\u001b[38;5;124m*\u001b[39m\u001b[38;5;124m\\\u001b[39m\u001b[38;5;124m*\u001b[39m\u001b[38;5;124m\\\u001b[39m\u001b[38;5;124m*\u001b[39m\u001b[38;5;124m\\\u001b[39m\u001b[38;5;124m*\u001b[39m\u001b[38;5;124m\\\u001b[39m\u001b[38;5;124m*\u001b[39m\u001b[38;5;124m\\\u001b[39m\u001b[38;5;124m*\u001b[39m\u001b[38;5;124m\\\u001b[39m\u001b[38;5;124m*\u001b[39m\u001b[38;5;124m\\\u001b[39m\u001b[38;5;124m*\u001b[39m\u001b[38;5;124m\\\u001b[39m\u001b[38;5;124m*\u001b[39m\u001b[38;5;124m\\\u001b[39m\u001b[38;5;124m*\u001b[39m\u001b[38;5;124m\\\u001b[39m\u001b[38;5;124m*\u001b[39m\u001b[38;5;124m\\\u001b[39m\u001b[38;5;124m*\u001b[39m\u001b[38;5;124m\\\u001b[39m\u001b[38;5;124m*\u001b[39m\u001b[38;5;124m\\\u001b[39m\u001b[38;5;124m*\u001b[39m\u001b[38;5;124m\\\u001b[39m\u001b[38;5;124m*\u001b[39m\u001b[38;5;124m\\\u001b[39m\u001b[38;5;124m*\u001b[39m\u001b[38;5;124m\\\u001b[39m\u001b[38;5;124m*\u001b[39m\u001b[38;5;124m\\\u001b[39m\u001b[38;5;124m*\u001b[39m\u001b[38;5;124m\\\u001b[39m\u001b[38;5;124m*\u001b[39m\u001b[38;5;124m\\\u001b[39m\u001b[38;5;124m*\u001b[39m\u001b[38;5;124m\\\u001b[39m\u001b[38;5;124m*\u001b[39m\u001b[38;5;124m\\\u001b[39m\u001b[38;5;124m*\u001b[39m\u001b[38;5;124m\\\u001b[39m\u001b[38;5;124m* \u001b[39m\u001b[38;5;124m\\\u001b[39m\u001b[38;5;124md+. row \u001b[39m\u001b[38;5;124m\\\u001b[39m\u001b[38;5;124m*\u001b[39m\u001b[38;5;124m\\\u001b[39m\u001b[38;5;124m*\u001b[39m\u001b[38;5;124m\\\u001b[39m\u001b[38;5;124m*\u001b[39m\u001b[38;5;124m\\\u001b[39m\u001b[38;5;124m*\u001b[39m\u001b[38;5;124m\\\u001b[39m\u001b[38;5;124m*\u001b[39m\u001b[38;5;124m\\\u001b[39m\u001b[38;5;124m*\u001b[39m\u001b[38;5;124m\\\u001b[39m\u001b[38;5;124m*\u001b[39m\u001b[38;5;124m\\\u001b[39m\u001b[38;5;124m*\u001b[39m\u001b[38;5;124m\\\u001b[39m\u001b[38;5;124m*\u001b[39m\u001b[38;5;124m\\\u001b[39m\u001b[38;5;124m*\u001b[39m\u001b[38;5;124m\\\u001b[39m\u001b[38;5;124m*\u001b[39m\u001b[38;5;124m\\\u001b[39m\u001b[38;5;124m*\u001b[39m\u001b[38;5;124m\\\u001b[39m\u001b[38;5;124m*\u001b[39m\u001b[38;5;124m\\\u001b[39m\u001b[38;5;124m*\u001b[39m\u001b[38;5;124m\\\u001b[39m\u001b[38;5;124m*\u001b[39m\u001b[38;5;124m\\\u001b[39m\u001b[38;5;124m*\u001b[39m\u001b[38;5;124m\\\u001b[39m\u001b[38;5;124m*\u001b[39m\u001b[38;5;124m\\\u001b[39m\u001b[38;5;124m*\u001b[39m\u001b[38;5;124m\\\u001b[39m\u001b[38;5;124m*\u001b[39m\u001b[38;5;124m\\\u001b[39m\u001b[38;5;124m*\u001b[39m\u001b[38;5;124m\\\u001b[39m\u001b[38;5;124m*\u001b[39m\u001b[38;5;124m\\\u001b[39m\u001b[38;5;124m*\u001b[39m\u001b[38;5;124m\\\u001b[39m\u001b[38;5;124m*\u001b[39m\u001b[38;5;124m\\\u001b[39m\u001b[38;5;124m*\u001b[39m\u001b[38;5;124m\\\u001b[39m\u001b[38;5;124m*\u001b[39m\u001b[38;5;124m\\\u001b[39m\u001b[38;5;124m*\u001b[39m\u001b[38;5;124m\\\u001b[39m\u001b[38;5;124m*\u001b[39m\u001b[38;5;130;01m\\n\u001b[39;00m\u001b[38;5;124m\"\u001b[39m,\n\u001b[1;32m      9\u001b[0m         \u001b[38;5;124m\"\u001b[39m\u001b[38;5;130;01m\\t\u001b[39;00m\u001b[38;5;124m\"\u001b[39m, s)\n\u001b[1;32m     10\u001b[0m     \u001b[38;5;28;01mreturn\u001b[39;00m s\n",
      "\u001b[0;31mNameError\u001b[0m: name 're' is not defined"
     ]
    }
   ],
   "source": [
    "def replace_row_handle_with_tab(s):\n",
    "    '''\n",
    "    This function replaces the row indication in the data file to a tab character for easy splitting of data.\n",
    "    :param s: raw string from the data file\n",
    "    :return: string with tab character instead of row indicator, if any\n",
    "    '''\n",
    "    s = re.sub(\n",
    "        \"\\*\\*\\*\\*\\*\\*\\*\\*\\*\\*\\*\\*\\*\\*\\*\\*\\*\\*\\*\\*\\*\\*\\*\\*\\*\\*\\* \\d+. row \\*\\*\\*\\*\\*\\*\\*\\*\\*\\*\\*\\*\\*\\*\\*\\*\\*\\*\\*\\*\\*\\*\\*\\*\\*\\*\\*\\n\",\n",
    "        \"\\t\", s)\n",
    "    return s\n",
    "\n",
    "\n",
    "if __name__ == \"__main__\":\n",
    "    file = open(\"AFM_raw_data.txt\")\n",
    "    lines_in_file = file.read()\n",
    "    modified_lines = replace_row_handle_with_tab(lines_in_file)\n",
    "    rows = modified_lines.split(\"\\t\")[1:]\n",
    "    records = list()\n",
    "    columns = [\"alarm_id\", \"customer_id\", \"hostname\", \"fault_severity\", \"device_contract_level\", \"status\", \"created_at\",\n",
    "               \"updated_at\", \"alarm_created\", \"description\", \"file_name\", \"impact\", \"mgmt_system_addr\",\n",
    "               \"mgmt_system_host_name\", \"mgmt_system_id\", \"mgmt_system_type\", \"os\", \"os_version\", \"raise_sr\",\n",
    "               \"remediation\",\n",
    "               \"sr_status\", \"sr_update_date\", \"syslog_msg\", \"tac_number\", \"tac_severity\", \"afm_cust_id_fk\",\n",
    "               \"prod_obj_id_fk\",\n",
    "               \"signature_id\", \"tac_sr_num_fk\", \"managed_ne_id\", \"product_id\", \"sw_type\", \"serial_number\", \"cli_status\",\n",
    "               \"email_status\", \"alarm_source\", \"alarm_type\", \"cli_output\", \"is_collector\", \"company\", \"contract_number\",\n",
    "               \"isclioutput_compressed_format\", \"request_id\", \"sa_id\", \"secondary_case\", \"device_id_fk\", \"solution_id\",\n",
    "               \"usecase_id\", \"signature_uuid\"]\n",
    "\n",
    "    # this loop will create a list of dictionaries having\n",
    "    # key - the columns name we need,\n",
    "    # and value - string present after ':' character in data file\n",
    "    for row in rows:\n",
    "        attributes = row.split(\"\\n\")\n",
    "        column_index = 0\n",
    "        dictionary = dict()\n",
    "        for index in range(len(attributes)):\n",
    "            attributes[index] = attributes[index].strip()\n",
    "            key, value = attributes[index].split(\":\")[0], attributes[index].split(\":\")[1:]\n",
    "            if key in columns:\n",
    "                dictionary[key] = \" \".join(value).strip()\n",
    "                column_index = columns.index(key)\n",
    "            else:\n",
    "                dictionary[columns[column_index]] += attributes[index]\n",
    "\n",
    "        records.append(dictionary)\n",
    "\n",
    "    afm_data = pd.DataFrame(records)\n",
    "    afm_data.rename(columns = {'description' : 'fault_description'}, inplace = True)\n",
    "    afm_data.to_csv(\"AFM_data.csv\", index=False)\n",
    "    print(\"Saved csv format\")\n",
    "    print(\"Columns - {}\".format(afm_data.columns))"
   ]
  },
  {
   "cell_type": "code",
   "execution_count": 8,
   "id": "20108fa2",
   "metadata": {},
   "outputs": [
    {
     "name": "stdout",
     "output_type": "stream",
     "text": [
      "Saved csv format\n"
     ]
    }
   ],
   "source": [
    "def change_case(str):\n",
    "    res = [str[0].lower()]\n",
    "    for c in str[1:]:\n",
    "        if c in ('ABCDEFGHIJKLMNOPQRSTUVWXYZ'):\n",
    "            res.append('_')\n",
    "            res.append(c.lower())\n",
    "        else:\n",
    "            res.append(c)\n",
    "     \n",
    "    return ''.join(res)\n",
    "\n",
    "rmc_data = pd.read_csv(\"RMC_raw_data.csv\", low_memory = False)\n",
    "new_columns = list()\n",
    "for column in rmc_data.columns :\n",
    "    new_columns.append(change_case(column))\n",
    "    \n",
    "rmc_data.columns = new_columns\n",
    "rmc_data.to_csv(\"RMC_data.csv\", index=False)\n",
    "print(\"Saved csv format\")"
   ]
  }
 ],
 "metadata": {
  "kernelspec": {
   "display_name": "Python 3 (ipykernel)",
   "language": "python",
   "name": "python3"
  },
  "language_info": {
   "codemirror_mode": {
    "name": "ipython",
    "version": 3
   },
   "file_extension": ".py",
   "mimetype": "text/x-python",
   "name": "python",
   "nbconvert_exporter": "python",
   "pygments_lexer": "ipython3",
   "version": "3.11.5"
  }
 },
 "nbformat": 4,
 "nbformat_minor": 5
}
